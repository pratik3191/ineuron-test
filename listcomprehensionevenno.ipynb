{
 "cells": [
  {
   "cell_type": "markdown",
   "id": "956b0107",
   "metadata": {},
   "source": [
    "Q 17.Write a function that takes a list of numbers as input and returns a new list containing only the even numbers from the input list. Use list comprehension to solve this problem."
   ]
  },
  {
   "cell_type": "code",
   "execution_count": 1,
   "id": "418510a2",
   "metadata": {},
   "outputs": [
    {
     "name": "stdout",
     "output_type": "stream",
     "text": [
      "Enter the number of elements in the list:8\n"
     ]
    }
   ],
   "source": [
    "n = int(input(\"Enter the number of elements in the list:\"))# Take the number of elements the user wants to enter in the list"
   ]
  },
  {
   "cell_type": "code",
   "execution_count": 3,
   "id": "8a7a21fd",
   "metadata": {},
   "outputs": [],
   "source": [
    "l = []"
   ]
  },
  {
   "cell_type": "code",
   "execution_count": 4,
   "id": "46fd1943",
   "metadata": {},
   "outputs": [],
   "source": [
    "#Now we would be taking user input:"
   ]
  },
  {
   "cell_type": "code",
   "execution_count": 5,
   "id": "732a272e",
   "metadata": {},
   "outputs": [
    {
     "name": "stdout",
     "output_type": "stream",
     "text": [
      "Enter the element to be added in the list\n",
      "5\n",
      "Enter the element to be added in the list\n",
      "8\n",
      "Enter the element to be added in the list\n",
      "6\n",
      "Enter the element to be added in the list\n",
      "7\n",
      "Enter the element to be added in the list\n",
      "9\n",
      "Enter the element to be added in the list\n",
      "4\n",
      "Enter the element to be added in the list\n",
      "5\n",
      "Enter the element to be added in the list\n",
      "2\n"
     ]
    },
    {
     "data": {
      "text/plain": [
       "[5, 8, 6, 7, 9, 4, 5, 2]"
      ]
     },
     "execution_count": 5,
     "metadata": {},
     "output_type": "execute_result"
    }
   ],
   "source": [
    "for i in range(0,n):\n",
    "    print(\"Enter the element to be added in the list\")\n",
    "    m = int(input())\n",
    "    l.append(m)\n",
    "l"
   ]
  },
  {
   "cell_type": "markdown",
   "id": "45b20cbe",
   "metadata": {},
   "source": [
    "Now we would be using list comprehension to find the list of even nos."
   ]
  },
  {
   "cell_type": "code",
   "execution_count": 6,
   "id": "93245dec",
   "metadata": {},
   "outputs": [],
   "source": [
    "even = [num for num in l if num % 2 == 0]"
   ]
  },
  {
   "cell_type": "code",
   "execution_count": 7,
   "id": "9178a054",
   "metadata": {},
   "outputs": [
    {
     "data": {
      "text/plain": [
       "[8, 6, 4, 2]"
      ]
     },
     "execution_count": 7,
     "metadata": {},
     "output_type": "execute_result"
    }
   ],
   "source": [
    "even"
   ]
  },
  {
   "cell_type": "code",
   "execution_count": null,
   "id": "7b24fcb8",
   "metadata": {},
   "outputs": [],
   "source": []
  }
 ],
 "metadata": {
  "kernelspec": {
   "display_name": "Python 3",
   "language": "python",
   "name": "python3"
  },
  "language_info": {
   "codemirror_mode": {
    "name": "ipython",
    "version": 3
   },
   "file_extension": ".py",
   "mimetype": "text/x-python",
   "name": "python",
   "nbconvert_exporter": "python",
   "pygments_lexer": "ipython3",
   "version": "3.8.8"
  }
 },
 "nbformat": 4,
 "nbformat_minor": 5
}
