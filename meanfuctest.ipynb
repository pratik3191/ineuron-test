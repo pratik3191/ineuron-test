{
 "cells": [
  {
   "cell_type": "markdown",
   "id": "6534a818",
   "metadata": {},
   "source": [
    "19. Write a function called ‘calculate_mean’ that takes a list of numbers as input and returns the mean (average) of the numbers. The function should calculate the mean using the sum of the numbers divided by the total count."
   ]
  },
  {
   "cell_type": "code",
   "execution_count": 6,
   "id": "81a281f3",
   "metadata": {},
   "outputs": [],
   "source": [
    "l=[]#empty list"
   ]
  },
  {
   "cell_type": "code",
   "execution_count": 7,
   "id": "0651b8f4",
   "metadata": {},
   "outputs": [
    {
     "name": "stdout",
     "output_type": "stream",
     "text": [
      "Enter the number of elements in the list : 8\n"
     ]
    }
   ],
   "source": [
    "global n\n",
    "n=int(input(\"Enter the number of elements in the list : \"))"
   ]
  },
  {
   "cell_type": "code",
   "execution_count": 8,
   "id": "619c18de",
   "metadata": {},
   "outputs": [
    {
     "name": "stdout",
     "output_type": "stream",
     "text": [
      "Enter the number to be added in the list\n",
      "4\n",
      "Enter the number to be added in the list\n",
      "8\n",
      "Enter the number to be added in the list\n",
      "6\n",
      "Enter the number to be added in the list\n",
      "4\n",
      "Enter the number to be added in the list\n",
      "7\n",
      "Enter the number to be added in the list\n",
      "6\n",
      "Enter the number to be added in the list\n",
      "2\n",
      "Enter the number to be added in the list\n",
      "1\n"
     ]
    },
    {
     "data": {
      "text/plain": [
       "[4, 8, 6, 4, 7, 6, 2, 1]"
      ]
     },
     "execution_count": 8,
     "metadata": {},
     "output_type": "execute_result"
    }
   ],
   "source": [
    "for i in range(0,n):\n",
    "    print(\"Enter the number to be added in the list\")\n",
    "    e = int(input())\n",
    "    l.append(e)\n",
    "l"
   ]
  },
  {
   "cell_type": "code",
   "execution_count": 9,
   "id": "a31844f4",
   "metadata": {},
   "outputs": [],
   "source": [
    "def calculate_mean(m):\n",
    "    total_sum = 0\n",
    "    for i in m:\n",
    "        total_sum +=i\n",
    "    mean = total_sum/n\n",
    "    return mean"
   ]
  },
  {
   "cell_type": "code",
   "execution_count": 10,
   "id": "cc951164",
   "metadata": {},
   "outputs": [
    {
     "name": "stdout",
     "output_type": "stream",
     "text": [
      "The mean of 8 numbers in a list is: 4.75 \n"
     ]
    }
   ],
   "source": [
    "mean_value=calculate_mean(l)\n",
    "print(f\"The mean of {n} numbers in a list is: {mean_value} \")"
   ]
  },
  {
   "cell_type": "code",
   "execution_count": null,
   "id": "bdd66d3b",
   "metadata": {},
   "outputs": [],
   "source": []
  }
 ],
 "metadata": {
  "kernelspec": {
   "display_name": "Python 3",
   "language": "python",
   "name": "python3"
  },
  "language_info": {
   "codemirror_mode": {
    "name": "ipython",
    "version": 3
   },
   "file_extension": ".py",
   "mimetype": "text/x-python",
   "name": "python",
   "nbconvert_exporter": "python",
   "pygments_lexer": "ipython3",
   "version": "3.8.8"
  }
 },
 "nbformat": 4,
 "nbformat_minor": 5
}
