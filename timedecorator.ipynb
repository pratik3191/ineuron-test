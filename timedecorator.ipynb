{
 "cells": [
  {
   "cell_type": "markdown",
   "id": "434ab403",
   "metadata": {},
   "source": [
    "18. Implement a decorator function called ‘timer’ that measures the execution time of a function. The ‘timer’ decorator should print the time taken by the decorated function to execute. Use the ‘time’ module in Python to calculate the execution time."
   ]
  },
  {
   "cell_type": "code",
   "execution_count": 1,
   "id": "b3482a7d",
   "metadata": {},
   "outputs": [],
   "source": [
    "import time"
   ]
  },
  {
   "cell_type": "code",
   "execution_count": 2,
   "id": "5e5acae1",
   "metadata": {},
   "outputs": [],
   "source": [
    "def timer(func):\n",
    "    start_time= time.time();\n",
    "    func()\n",
    "    print(\"The time taken by the function to execute is : \",time.time()-start_time,\"secs\")"
   ]
  },
  {
   "cell_type": "code",
   "execution_count": 3,
   "id": "a905985b",
   "metadata": {
    "scrolled": true
   },
   "outputs": [
    {
     "name": "stdout",
     "output_type": "stream",
     "text": [
      "The time taken by the function to execute is :  2.0141775608062744 secs\n"
     ]
    }
   ],
   "source": [
    "@timer\n",
    "def my_func():\n",
    "    a=10+12\n",
    "    time.sleep(2)"
   ]
  },
  {
   "cell_type": "code",
   "execution_count": null,
   "id": "a46059f6",
   "metadata": {},
   "outputs": [],
   "source": []
  }
 ],
 "metadata": {
  "kernelspec": {
   "display_name": "Python 3",
   "language": "python",
   "name": "python3"
  },
  "language_info": {
   "codemirror_mode": {
    "name": "ipython",
    "version": 3
   },
   "file_extension": ".py",
   "mimetype": "text/x-python",
   "name": "python",
   "nbconvert_exporter": "python",
   "pygments_lexer": "ipython3",
   "version": "3.8.8"
  }
 },
 "nbformat": 4,
 "nbformat_minor": 5
}
